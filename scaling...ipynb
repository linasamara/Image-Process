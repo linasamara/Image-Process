{
 "cells": [
  {
   "cell_type": "markdown",
   "metadata": {},
   "source": [
    "# Explanation of the example scaling:\n",
    "\n",
    "the first function imread(here put the link of image,for color)===>Through this fonction the image is accessed and meaning 0 make the color gray.\n",
    "\n",
    "the Second function resize(the image,??,new size for X ,new size for Y,?? but for Slow )==> to change the size of images\n",
    "the imshow function use to show the image after  the changes.\n",
    "\n",
    "the waitKey function use when i run the code will appear stat this mean it's processing but when press enter the process is\n",
    "finished so this function is responsible for showing and hiding the star. (but i not sure)===>Determine how long I want to show the image and then hide it.(this is sure).\n",
    "\n",
    "the destroyAllWindows function hide the image windows.\n",
    "\n"
   ]
  },
  {
   "cell_type": "code",
   "execution_count": 1,
   "metadata": {
    "collapsed": true
   },
   "outputs": [],
   "source": [
    "import cv2\n",
    "import numpy as np\n",
    "\n",
    "img = cv2.imread('images/flower.jpg',0) \n",
    "res = cv2.resize(img,None,fx=2, fy=2, interpolation = cv2.INTER_CUBIC)\n",
    "cv2.imshow('resize 1', res)\n",
    "cv2.waitKey(0)\n",
    "cv2.destroyAllWindows()\n"
   ]
  },
  {
   "cell_type": "code",
   "execution_count": null,
   "metadata": {
    "collapsed": true
   },
   "outputs": [],
   "source": []
  },
  {
   "cell_type": "code",
   "execution_count": null,
   "metadata": {
    "collapsed": true
   },
   "outputs": [],
   "source": []
  }
 ],
 "metadata": {
  "kernelspec": {
   "display_name": "Python 3",
   "language": "python",
   "name": "python3"
  },
  "language_info": {
   "codemirror_mode": {
    "name": "ipython",
    "version": 3
   },
   "file_extension": ".py",
   "mimetype": "text/x-python",
   "name": "python",
   "nbconvert_exporter": "python",
   "pygments_lexer": "ipython3",
   "version": "3.6.1"
  }
 },
 "nbformat": 4,
 "nbformat_minor": 2
}
