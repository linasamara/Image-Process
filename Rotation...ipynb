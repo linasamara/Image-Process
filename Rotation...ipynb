{
 "cells": [
  {
   "cell_type": "markdown",
   "metadata": {},
   "source": [
    "# Explanation of Rotation Example\n",
    "\n",
    "imread  access to the image,0 change color to grey.\n",
    "\n",
    "img.shape==> use this to accessing Image Properties that return truple of numbers of rows, columns and channels (if image is color) But if image is grayscale tuple returned contains only number of rows and columns.in this example the image is gray so returm 2 attributs .\n",
    "\n",
    "getRotationMatrix2D(Center,angle,scale)===>this function use to Calculate an affine matrix of 2D rotation\n",
    "*Center: enter of the rotation in the source image.\n",
    "*angle: Rotation angle in degrees.\n",
    "*scale: Isotropic scale factor. i think this to zoom the image \n",
    "\n",
    "hconcat()====>this function use to put two images in one attributes So I can show more than one image in output.\n",
    "\n",
    "The following in this Below has been explained previously.\n"
   ]
  },
  {
   "cell_type": "code",
   "execution_count": 1,
   "metadata": {
    "collapsed": true
   },
   "outputs": [],
   "source": [
    "import cv2\n",
    "import numpy as np\n",
    "img = cv2.imread('images/messi5.jpg',0)\n",
    "rows,cols = img.shape\n",
    "M = cv2.getRotationMatrix2D((cols/2,rows/2),90,12)\n",
    "dst = cv2.warpAffine(img,M,(cols,rows))\n",
    "final_frame = cv2.hconcat((img, dst))\n",
    "cv2.imshow('image',final_frame)\n",
    "cv2.waitKey(0)\n",
    "cv2.destroyAllWindows()"
   ]
  },
  {
   "cell_type": "code",
   "execution_count": null,
   "metadata": {
    "collapsed": true
   },
   "outputs": [],
   "source": []
  }
 ],
 "metadata": {
  "kernelspec": {
   "display_name": "Python 3",
   "language": "python",
   "name": "python3"
  },
  "language_info": {
   "codemirror_mode": {
    "name": "ipython",
    "version": 3
   },
   "file_extension": ".py",
   "mimetype": "text/x-python",
   "name": "python",
   "nbconvert_exporter": "python",
   "pygments_lexer": "ipython3",
   "version": "3.6.1"
  }
 },
 "nbformat": 4,
 "nbformat_minor": 2
}
