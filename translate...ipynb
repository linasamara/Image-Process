{
 "cells": [
  {
   "cell_type": "markdown",
   "metadata": {},
   "source": [
    "# Translation Example:\n",
    "\n",
    "imread  access to the image,0 change color to grey.\n",
    "\n",
    "img.shape==> use this to accessing Image Properties that return truple of numbers of rows, columns and channels (if image is color) But if image is grayscale tuple returned contains only number of rows and columns.in this example the image is gray so returm 2 attributs .\n",
    "\n",
    "float32([[1,0,new X],[0,1,new Y ]]) ==>in this function put new of x and y value this values define point show the image in window.\n",
    "\n",
    "warpAffine(put the image src,M==> Represent transformation matrix,(cols,rows))==>this function defined the size of the output image.\n",
    "\n",
    "The following in this Below has been explained previously.\n",
    "\n"
   ]
  },
  {
   "cell_type": "code",
   "execution_count": 1,
   "metadata": {
    "collapsed": true
   },
   "outputs": [],
   "source": [
    "import cv2\n",
    "import numpy as np\n",
    "img = cv2.imread('images/messi5.jpg',0)\n",
    "rows,cols = img.shape\n",
    "M = np.float32([[1,0,200],[0,1,100]])\n",
    "dst = cv2.warpAffine(img,M,(cols,rows))\n",
    "cv2.imshow('img',dst)\n",
    "cv2.waitKey(0)\n",
    "cv2.destroyAllWindows()\n"
   ]
  },
  {
   "cell_type": "raw",
   "metadata": {},
   "source": [
    "# Show the original image and image after applying the translation filter\n"
   ]
  },
  {
   "cell_type": "code",
   "execution_count": 2,
   "metadata": {
    "collapsed": true
   },
   "outputs": [],
   "source": [
    "import cv2\n",
    "import numpy as np\n",
    "img = cv2.imread('images/messi5.jpg',0)\n",
    "rows,cols = img.shape\n",
    "M = np.float32([[1,0,200],[0,1,100]])\n",
    "dst = cv2.warpAffine(img,M,(cols,rows))\n",
    "final_frame = cv2.hconcat((img, dst))\n",
    "cv2.imshow('image',final_frame)\n",
    "\n",
    "cv2.waitKey(0)\n",
    "cv2.destroyAllWindows()"
   ]
  },
  {
   "cell_type": "code",
   "execution_count": null,
   "metadata": {
    "collapsed": true
   },
   "outputs": [],
   "source": []
  }
 ],
 "metadata": {
  "kernelspec": {
   "display_name": "Python 3",
   "language": "python",
   "name": "python3"
  },
  "language_info": {
   "codemirror_mode": {
    "name": "ipython",
    "version": 3
   },
   "file_extension": ".py",
   "mimetype": "text/x-python",
   "name": "python",
   "nbconvert_exporter": "python",
   "pygments_lexer": "ipython3",
   "version": "3.6.1"
  }
 },
 "nbformat": 4,
 "nbformat_minor": 2
}
